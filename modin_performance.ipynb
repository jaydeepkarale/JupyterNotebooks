{
 "cells": [
  {
   "cell_type": "code",
   "execution_count": 49,
   "metadata": {},
   "outputs": [],
   "source": [
    "import modin.pandas as pd\n",
    "import time"
   ]
  },
  {
   "cell_type": "code",
   "execution_count": 50,
   "metadata": {},
   "outputs": [],
   "source": [
    "def pd_read_csv(path):\n",
    "    \"\"\"\n",
    "    Converting csv file into Pandas dataframe\n",
    "    \"\"\"\n",
    "    df= pd.read_csv(path)\n",
    "    return df\n",
    "\n",
    "def pd_read_parquet(path, ):\n",
    "    \"\"\"\n",
    "    Converting parquet file into Pandas dataframe\n",
    "    \"\"\"\n",
    "    df= pd.read_parquet(path,)\n",
    "    return df"
   ]
  },
  {
   "cell_type": "code",
   "execution_count": 51,
   "metadata": {},
   "outputs": [],
   "source": [
    "def mean_test_speed_pd(df_pd):\n",
    "    \"\"\"\n",
    "    Getting Mean per PULocationID\n",
    "    \"\"\"\n",
    "    df_pd = df_pd[['PULocationID', 'trip_distance']]\n",
    "    df_pd[\"PULocationID_column\"] = df_pd[['PULocationID']].astype(int)\n",
    "    df_pd=df_pd.groupby('PULocationID').mean()    \n",
    "    return df_pd\n",
    "\n",
    "def endwith_test_speed_pd(df_pd):\n",
    "    \"\"\"\n",
    "    Only getting Zones that end with East\n",
    "    \"\"\"\n",
    "    df_pd.dropna(inplace=True)\n",
    "    df_pd = df_pd[df_pd.Zone.str.endswith('East')]        \n",
    "    return df_pd"
   ]
  },
  {
   "cell_type": "code",
   "execution_count": 52,
   "metadata": {},
   "outputs": [],
   "source": [
    "def loading_into_parquet(df_pd):\n",
    "    \"\"\"\n",
    "    Save dataframe in parquet\n",
    "    \"\"\"        \n",
    "    df_pd.to_parquet(f'yellow_tripdata_2021-01_{pd.__version__}.parquet')\n",
    "\n",
    "def loading_into_csv(df_pd):\n",
    "    \"\"\"\n",
    "    Save dataframe in parquet\n",
    "    \"\"\"        \n",
    "    df_pd.to_csv('sample_modin.csv')    "
   ]
  },
  {
   "cell_type": "code",
   "execution_count": 53,
   "metadata": {},
   "outputs": [],
   "source": [
    "def main():    \n",
    "    print(f'Starting ETL for Modin version {pd.__version__}')\n",
    "    start_time = time.perf_counter()\n",
    "    \n",
    "    print('Extracting...')\n",
    "    path1=\"D:\\Twitter_n_Insta\\pandas_polars_pandas2\\yellow_tripdata_2021-01.csv\"\n",
    "    df_trips= pd_read_csv(path1)    \n",
    "    path2 = \"D:\\Twitter_n_Insta\\pandas_polars_pandas2\\\\taxi+_zone_lookup.csv\"\n",
    "    df_zone = pd_read_csv(path2)    \n",
    "    end_extract = time.perf_counter() \n",
    "    time_extract = end_extract- start_time\n",
    "    print(f'Extraction csv end in {round(time_extract,3)} seconds')\n",
    "\n",
    "    print('Transforming...')    \n",
    "    df_trips= mean_test_speed_pd(df_trips)\n",
    "    df = pd.merge(df_trips,df_zone,how=\"inner\", left_on=\"PULocationID_column\", right_on=\"LocationID\",)\n",
    "    df = df[[\"Borough\",\"Zone\",\"trip_distance\"]]    \n",
    "    # df = endwith_test_speed_pd(df)    \n",
    "    end_transform = time.perf_counter() \n",
    "    time_transformation = time.perf_counter() - end_extract\n",
    "    print(f'Transformation end in {round(time_transformation,3)} seconds')\n",
    "\n",
    "    print('Loading...')               \n",
    "    loading_into_csv(df)\n",
    "    load_transformation = time.perf_counter() - end_transform\n",
    "    print(f'Loading end in {round(load_transformation,3)} seconds')\n",
    "\n",
    "    print(f'End ETL for Pandas version {pd.__version__}')"
   ]
  },
  {
   "cell_type": "code",
   "execution_count": 55,
   "metadata": {},
   "outputs": [
    {
     "name": "stdout",
     "output_type": "stream",
     "text": [
      "Starting ETL for Modin version 0.19.0\n",
      "Extracting...\n",
      "Extraction csv end in 1.016 seconds\n",
      "Transforming...\n",
      "Transformation end in 9.93 seconds\n",
      "Loading...\n",
      "Loading end in 3.256 seconds\n",
      "End ETL for Pandas version 0.19.0\n"
     ]
    }
   ],
   "source": [
    "main()"
   ]
  }
 ],
 "metadata": {
  "kernelspec": {
   "display_name": "emailwithflask",
   "language": "python",
   "name": "python3"
  },
  "language_info": {
   "codemirror_mode": {
    "name": "ipython",
    "version": 3
   },
   "file_extension": ".py",
   "mimetype": "text/x-python",
   "name": "python",
   "nbconvert_exporter": "python",
   "pygments_lexer": "ipython3",
   "version": "3.10.9"
  },
  "orig_nbformat": 4
 },
 "nbformat": 4,
 "nbformat_minor": 2
}
